{
 "cells": [
  {
   "cell_type": "markdown",
   "metadata": {},
   "source": [
    "# Leaflet cluster map of talk locations\n",
    "\n",
    "Run this from the _talks/ directory, which contains .md files of all your talks. This scrapes the location YAML field from each .md file, geolocates it with geopy/Nominatim, and uses the getorg library to output data, HTML, and Javascript for a standalone cluster map."
   ]
  },
  {
   "cell_type": "code",
   "execution_count": 1,
   "metadata": {},
   "outputs": [
    {
     "name": "stdout",
     "output_type": "stream",
     "text": [
      "Requirement already up-to-date: getorg in /Users/bramvanderheijde/miniconda2/lib/python2.7/site-packages (0.3.1)\n",
      "Requirement already satisfied, skipping upgrade: pygithub in /Users/bramvanderheijde/miniconda2/lib/python2.7/site-packages (from getorg) (1.36)\n",
      "Requirement already satisfied, skipping upgrade: retrying in /Users/bramvanderheijde/miniconda2/lib/python2.7/site-packages (from getorg) (1.3.3)\n",
      "Requirement already satisfied, skipping upgrade: geopy in /Users/bramvanderheijde/miniconda2/lib/python2.7/site-packages (from getorg) (1.11.0)\n",
      "Requirement already satisfied, skipping upgrade: pyjwt in /Users/bramvanderheijde/miniconda2/lib/python2.7/site-packages (from pygithub->getorg) (1.5.3)\n",
      "Requirement already satisfied, skipping upgrade: six>=1.7.0 in /Users/bramvanderheijde/miniconda2/lib/python2.7/site-packages (from retrying->getorg) (1.11.0)\n",
      "IPywidgets and ipyleaflet support enabled.\n"
     ]
    }
   ],
   "source": [
    "!pip install getorg --upgrade\n",
    "import glob\n",
    "import getorg\n",
    "from geopy import Nominatim"
   ]
  },
  {
   "cell_type": "code",
   "execution_count": 8,
   "metadata": {},
   "outputs": [],
   "source": [
    "import os\n",
    "os.chdir('_talks/')"
   ]
  },
  {
   "cell_type": "code",
   "execution_count": 9,
   "metadata": {},
   "outputs": [
    {
     "name": "stdout",
     "output_type": "stream",
     "text": [
      "['2017-10-SDEWES.md', '2016-05-Annex60Miami.md', '2017-09-4DH.md', '2015-05-GreenStock.md', '2017-03-IRES.md', '2018-06-ECOS.md', '2014-06-EnergySystems.md', '2015-09-Annex60Leuven.md']\n"
     ]
    }
   ],
   "source": [
    "g = glob.glob(\"*.md\")\n",
    "print g"
   ]
  },
  {
   "cell_type": "code",
   "execution_count": 10,
   "metadata": {},
   "outputs": [],
   "source": [
    "geocoder = Nominatim()\n",
    "location_dict = {}\n",
    "location = \"\"\n",
    "permalink = \"\"\n",
    "title = \"\""
   ]
  },
  {
   "cell_type": "code",
   "execution_count": 11,
   "metadata": {},
   "outputs": [
    {
     "name": "stdout",
     "output_type": "stream",
     "text": [
      "('Dubrovnik, Croatia', '\\n', Location((42.649429, 18.0940416, 0.0)))\n",
      "('Miami, Florida', '\\n', Location((25.7742658, -80.1936589, 0.0)))\n",
      "('Copenhagen, Denmark', '\\n', Location((55.6867243, 12.5700724, 0.0)))\n",
      "('Beijing, China', '\\n', Location((39.906217, 116.3912757, 0.0)))\n",
      "('D\\xc3\\xbcsseldorf, Germany', '\\n', Location((51.2254018, 6.7763137, 0.0)))\n",
      "('Guimar\\xc3\\xa3es, Portugal', '\\n', Location((41.4417677, -8.2955712, 0.0)))\n",
      "('London, United Kingdom', '\\n', Location((51.5073219, -0.1276474, 0.0)))\n",
      "('Leuven, Belgium', '\\n', Location((50.879202, 4.7011675, 0.0)))\n"
     ]
    }
   ],
   "source": [
    "\n",
    "for file in g:\n",
    "    with open(file, 'r') as f:\n",
    "        lines = f.read()\n",
    "        if lines.find('location: \"') > 1:\n",
    "            loc_start = lines.find('location: \"') + 11\n",
    "            lines_trim = lines[loc_start:]\n",
    "            loc_end = lines_trim.find('\"')\n",
    "            location = lines_trim[:loc_end]\n",
    "                            \n",
    "           \n",
    "        location_dict[location] = geocoder.geocode(location)\n",
    "        print(location, \"\\n\", location_dict[location])\n"
   ]
  },
  {
   "cell_type": "code",
   "execution_count": 12,
   "metadata": {},
   "outputs": [
    {
     "data": {
      "text/plain": [
       "'Written map to ../talkmap/'"
      ]
     },
     "execution_count": 12,
     "metadata": {},
     "output_type": "execute_result"
    }
   ],
   "source": [
    "m = getorg.orgmap.create_map_obj()\n",
    "getorg.orgmap.output_html_cluster_map(location_dict, folder_name=\"../talkmap\", hashed_usernames=False)"
   ]
  },
  {
   "cell_type": "code",
   "execution_count": null,
   "metadata": {
    "collapsed": true
   },
   "outputs": [],
   "source": []
  }
 ],
 "metadata": {
  "anaconda-cloud": {},
  "kernelspec": {
   "display_name": "Python 2",
   "language": "python",
   "name": "python2"
  },
  "language_info": {
   "codemirror_mode": {
    "name": "ipython",
    "version": 2
   },
   "file_extension": ".py",
   "mimetype": "text/x-python",
   "name": "python",
   "nbconvert_exporter": "python",
   "pygments_lexer": "ipython2",
   "version": "2.7.14"
  }
 },
 "nbformat": 4,
 "nbformat_minor": 1
}


